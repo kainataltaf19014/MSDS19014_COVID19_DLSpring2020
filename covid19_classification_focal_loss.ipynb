{
  "nbformat": 4,
  "nbformat_minor": 0,
  "metadata": {
    "colab": {
      "name": "A5_2.ipynb",
      "provenance": [],
      "collapsed_sections": [],
      "machine_shape": "hm"
    },
    "kernelspec": {
      "name": "python3",
      "display_name": "Python 3"
    },
    "accelerator": "GPU",
    "widgets": {
      "application/vnd.jupyter.widget-state+json": {
        "13cafa3092c54eafab249b1f46d0a298": {
          "model_module": "@jupyter-widgets/controls",
          "model_name": "HBoxModel",
          "state": {
            "_view_name": "HBoxView",
            "_dom_classes": [],
            "_model_name": "HBoxModel",
            "_view_module": "@jupyter-widgets/controls",
            "_model_module_version": "1.5.0",
            "_view_count": null,
            "_view_module_version": "1.5.0",
            "box_style": "",
            "layout": "IPY_MODEL_356f7b063d7244998ac5a043803cf85e",
            "_model_module": "@jupyter-widgets/controls",
            "children": [
              "IPY_MODEL_ee3c6ad082234f529c13d5e60b7ec1c4",
              "IPY_MODEL_55f785b5fc564aa29ec7824e60cecb46"
            ]
          }
        },
        "356f7b063d7244998ac5a043803cf85e": {
          "model_module": "@jupyter-widgets/base",
          "model_name": "LayoutModel",
          "state": {
            "_view_name": "LayoutView",
            "grid_template_rows": null,
            "right": null,
            "justify_content": null,
            "_view_module": "@jupyter-widgets/base",
            "overflow": null,
            "_model_module_version": "1.2.0",
            "_view_count": null,
            "flex_flow": null,
            "width": null,
            "min_width": null,
            "border": null,
            "align_items": null,
            "bottom": null,
            "_model_module": "@jupyter-widgets/base",
            "top": null,
            "grid_column": null,
            "overflow_y": null,
            "overflow_x": null,
            "grid_auto_flow": null,
            "grid_area": null,
            "grid_template_columns": null,
            "flex": null,
            "_model_name": "LayoutModel",
            "justify_items": null,
            "grid_row": null,
            "max_height": null,
            "align_content": null,
            "visibility": null,
            "align_self": null,
            "height": null,
            "min_height": null,
            "padding": null,
            "grid_auto_rows": null,
            "grid_gap": null,
            "max_width": null,
            "order": null,
            "_view_module_version": "1.2.0",
            "grid_template_areas": null,
            "object_position": null,
            "object_fit": null,
            "grid_auto_columns": null,
            "margin": null,
            "display": null,
            "left": null
          }
        },
        "ee3c6ad082234f529c13d5e60b7ec1c4": {
          "model_module": "@jupyter-widgets/controls",
          "model_name": "IntProgressModel",
          "state": {
            "_view_name": "ProgressView",
            "style": "IPY_MODEL_98a2465f42284a74a3e3ac5c47de4843",
            "_dom_classes": [],
            "description": "100%",
            "_model_name": "IntProgressModel",
            "bar_style": "success",
            "max": 553433881,
            "_view_module": "@jupyter-widgets/controls",
            "_model_module_version": "1.5.0",
            "value": 553433881,
            "_view_count": null,
            "_view_module_version": "1.5.0",
            "orientation": "horizontal",
            "min": 0,
            "description_tooltip": null,
            "_model_module": "@jupyter-widgets/controls",
            "layout": "IPY_MODEL_c3d645b3f7474199aa50646e9d53476c"
          }
        },
        "55f785b5fc564aa29ec7824e60cecb46": {
          "model_module": "@jupyter-widgets/controls",
          "model_name": "HTMLModel",
          "state": {
            "_view_name": "HTMLView",
            "style": "IPY_MODEL_27df3ec7b9614559864ce6333ed7a49a",
            "_dom_classes": [],
            "description": "",
            "_model_name": "HTMLModel",
            "placeholder": "​",
            "_view_module": "@jupyter-widgets/controls",
            "_model_module_version": "1.5.0",
            "value": " 528M/528M [1:54:16&lt;00:00, 80.7kB/s]",
            "_view_count": null,
            "_view_module_version": "1.5.0",
            "description_tooltip": null,
            "_model_module": "@jupyter-widgets/controls",
            "layout": "IPY_MODEL_6dfcbe40364645819e44a0578f6b6eb0"
          }
        },
        "98a2465f42284a74a3e3ac5c47de4843": {
          "model_module": "@jupyter-widgets/controls",
          "model_name": "ProgressStyleModel",
          "state": {
            "_view_name": "StyleView",
            "_model_name": "ProgressStyleModel",
            "description_width": "initial",
            "_view_module": "@jupyter-widgets/base",
            "_model_module_version": "1.5.0",
            "_view_count": null,
            "_view_module_version": "1.2.0",
            "bar_color": null,
            "_model_module": "@jupyter-widgets/controls"
          }
        },
        "c3d645b3f7474199aa50646e9d53476c": {
          "model_module": "@jupyter-widgets/base",
          "model_name": "LayoutModel",
          "state": {
            "_view_name": "LayoutView",
            "grid_template_rows": null,
            "right": null,
            "justify_content": null,
            "_view_module": "@jupyter-widgets/base",
            "overflow": null,
            "_model_module_version": "1.2.0",
            "_view_count": null,
            "flex_flow": null,
            "width": null,
            "min_width": null,
            "border": null,
            "align_items": null,
            "bottom": null,
            "_model_module": "@jupyter-widgets/base",
            "top": null,
            "grid_column": null,
            "overflow_y": null,
            "overflow_x": null,
            "grid_auto_flow": null,
            "grid_area": null,
            "grid_template_columns": null,
            "flex": null,
            "_model_name": "LayoutModel",
            "justify_items": null,
            "grid_row": null,
            "max_height": null,
            "align_content": null,
            "visibility": null,
            "align_self": null,
            "height": null,
            "min_height": null,
            "padding": null,
            "grid_auto_rows": null,
            "grid_gap": null,
            "max_width": null,
            "order": null,
            "_view_module_version": "1.2.0",
            "grid_template_areas": null,
            "object_position": null,
            "object_fit": null,
            "grid_auto_columns": null,
            "margin": null,
            "display": null,
            "left": null
          }
        },
        "27df3ec7b9614559864ce6333ed7a49a": {
          "model_module": "@jupyter-widgets/controls",
          "model_name": "DescriptionStyleModel",
          "state": {
            "_view_name": "StyleView",
            "_model_name": "DescriptionStyleModel",
            "description_width": "",
            "_view_module": "@jupyter-widgets/base",
            "_model_module_version": "1.5.0",
            "_view_count": null,
            "_view_module_version": "1.2.0",
            "_model_module": "@jupyter-widgets/controls"
          }
        },
        "6dfcbe40364645819e44a0578f6b6eb0": {
          "model_module": "@jupyter-widgets/base",
          "model_name": "LayoutModel",
          "state": {
            "_view_name": "LayoutView",
            "grid_template_rows": null,
            "right": null,
            "justify_content": null,
            "_view_module": "@jupyter-widgets/base",
            "overflow": null,
            "_model_module_version": "1.2.0",
            "_view_count": null,
            "flex_flow": null,
            "width": null,
            "min_width": null,
            "border": null,
            "align_items": null,
            "bottom": null,
            "_model_module": "@jupyter-widgets/base",
            "top": null,
            "grid_column": null,
            "overflow_y": null,
            "overflow_x": null,
            "grid_auto_flow": null,
            "grid_area": null,
            "grid_template_columns": null,
            "flex": null,
            "_model_name": "LayoutModel",
            "justify_items": null,
            "grid_row": null,
            "max_height": null,
            "align_content": null,
            "visibility": null,
            "align_self": null,
            "height": null,
            "min_height": null,
            "padding": null,
            "grid_auto_rows": null,
            "grid_gap": null,
            "max_width": null,
            "order": null,
            "_view_module_version": "1.2.0",
            "grid_template_areas": null,
            "object_position": null,
            "object_fit": null,
            "grid_auto_columns": null,
            "margin": null,
            "display": null,
            "left": null
          }
        },
        "4d2a4a36a05b4bf6a240128a9331d965": {
          "model_module": "@jupyter-widgets/controls",
          "model_name": "HBoxModel",
          "state": {
            "_view_name": "HBoxView",
            "_dom_classes": [],
            "_model_name": "HBoxModel",
            "_view_module": "@jupyter-widgets/controls",
            "_model_module_version": "1.5.0",
            "_view_count": null,
            "_view_module_version": "1.5.0",
            "box_style": "",
            "layout": "IPY_MODEL_8f40edc9e6ac4c4a8aa45abd54bcbd76",
            "_model_module": "@jupyter-widgets/controls",
            "children": [
              "IPY_MODEL_8380b69d8b94420abc88ca4afdb4840c",
              "IPY_MODEL_f6fd9bc7048842679ac4d8340cc1e847"
            ]
          }
        },
        "8f40edc9e6ac4c4a8aa45abd54bcbd76": {
          "model_module": "@jupyter-widgets/base",
          "model_name": "LayoutModel",
          "state": {
            "_view_name": "LayoutView",
            "grid_template_rows": null,
            "right": null,
            "justify_content": null,
            "_view_module": "@jupyter-widgets/base",
            "overflow": null,
            "_model_module_version": "1.2.0",
            "_view_count": null,
            "flex_flow": null,
            "width": null,
            "min_width": null,
            "border": null,
            "align_items": null,
            "bottom": null,
            "_model_module": "@jupyter-widgets/base",
            "top": null,
            "grid_column": null,
            "overflow_y": null,
            "overflow_x": null,
            "grid_auto_flow": null,
            "grid_area": null,
            "grid_template_columns": null,
            "flex": null,
            "_model_name": "LayoutModel",
            "justify_items": null,
            "grid_row": null,
            "max_height": null,
            "align_content": null,
            "visibility": null,
            "align_self": null,
            "height": null,
            "min_height": null,
            "padding": null,
            "grid_auto_rows": null,
            "grid_gap": null,
            "max_width": null,
            "order": null,
            "_view_module_version": "1.2.0",
            "grid_template_areas": null,
            "object_position": null,
            "object_fit": null,
            "grid_auto_columns": null,
            "margin": null,
            "display": null,
            "left": null
          }
        },
        "8380b69d8b94420abc88ca4afdb4840c": {
          "model_module": "@jupyter-widgets/controls",
          "model_name": "IntProgressModel",
          "state": {
            "_view_name": "ProgressView",
            "style": "IPY_MODEL_76f808d721814f08b07436880f8be56a",
            "_dom_classes": [],
            "description": "100%",
            "_model_name": "IntProgressModel",
            "bar_style": "success",
            "max": 46827520,
            "_view_module": "@jupyter-widgets/controls",
            "_model_module_version": "1.5.0",
            "value": 46827520,
            "_view_count": null,
            "_view_module_version": "1.5.0",
            "orientation": "horizontal",
            "min": 0,
            "description_tooltip": null,
            "_model_module": "@jupyter-widgets/controls",
            "layout": "IPY_MODEL_08e883235b6b4bfe91275ef60403d661"
          }
        },
        "f6fd9bc7048842679ac4d8340cc1e847": {
          "model_module": "@jupyter-widgets/controls",
          "model_name": "HTMLModel",
          "state": {
            "_view_name": "HTMLView",
            "style": "IPY_MODEL_e1ed58d1a819404a9856706002a2aa78",
            "_dom_classes": [],
            "description": "",
            "_model_name": "HTMLModel",
            "placeholder": "​",
            "_view_module": "@jupyter-widgets/controls",
            "_model_module_version": "1.5.0",
            "value": " 44.7M/44.7M [00:16&lt;00:00, 2.85MB/s]",
            "_view_count": null,
            "_view_module_version": "1.5.0",
            "description_tooltip": null,
            "_model_module": "@jupyter-widgets/controls",
            "layout": "IPY_MODEL_db4cfbe7285940c8bcf8bb958d3d8021"
          }
        },
        "76f808d721814f08b07436880f8be56a": {
          "model_module": "@jupyter-widgets/controls",
          "model_name": "ProgressStyleModel",
          "state": {
            "_view_name": "StyleView",
            "_model_name": "ProgressStyleModel",
            "description_width": "initial",
            "_view_module": "@jupyter-widgets/base",
            "_model_module_version": "1.5.0",
            "_view_count": null,
            "_view_module_version": "1.2.0",
            "bar_color": null,
            "_model_module": "@jupyter-widgets/controls"
          }
        },
        "08e883235b6b4bfe91275ef60403d661": {
          "model_module": "@jupyter-widgets/base",
          "model_name": "LayoutModel",
          "state": {
            "_view_name": "LayoutView",
            "grid_template_rows": null,
            "right": null,
            "justify_content": null,
            "_view_module": "@jupyter-widgets/base",
            "overflow": null,
            "_model_module_version": "1.2.0",
            "_view_count": null,
            "flex_flow": null,
            "width": null,
            "min_width": null,
            "border": null,
            "align_items": null,
            "bottom": null,
            "_model_module": "@jupyter-widgets/base",
            "top": null,
            "grid_column": null,
            "overflow_y": null,
            "overflow_x": null,
            "grid_auto_flow": null,
            "grid_area": null,
            "grid_template_columns": null,
            "flex": null,
            "_model_name": "LayoutModel",
            "justify_items": null,
            "grid_row": null,
            "max_height": null,
            "align_content": null,
            "visibility": null,
            "align_self": null,
            "height": null,
            "min_height": null,
            "padding": null,
            "grid_auto_rows": null,
            "grid_gap": null,
            "max_width": null,
            "order": null,
            "_view_module_version": "1.2.0",
            "grid_template_areas": null,
            "object_position": null,
            "object_fit": null,
            "grid_auto_columns": null,
            "margin": null,
            "display": null,
            "left": null
          }
        },
        "e1ed58d1a819404a9856706002a2aa78": {
          "model_module": "@jupyter-widgets/controls",
          "model_name": "DescriptionStyleModel",
          "state": {
            "_view_name": "StyleView",
            "_model_name": "DescriptionStyleModel",
            "description_width": "",
            "_view_module": "@jupyter-widgets/base",
            "_model_module_version": "1.5.0",
            "_view_count": null,
            "_view_module_version": "1.2.0",
            "_model_module": "@jupyter-widgets/controls"
          }
        },
        "db4cfbe7285940c8bcf8bb958d3d8021": {
          "model_module": "@jupyter-widgets/base",
          "model_name": "LayoutModel",
          "state": {
            "_view_name": "LayoutView",
            "grid_template_rows": null,
            "right": null,
            "justify_content": null,
            "_view_module": "@jupyter-widgets/base",
            "overflow": null,
            "_model_module_version": "1.2.0",
            "_view_count": null,
            "flex_flow": null,
            "width": null,
            "min_width": null,
            "border": null,
            "align_items": null,
            "bottom": null,
            "_model_module": "@jupyter-widgets/base",
            "top": null,
            "grid_column": null,
            "overflow_y": null,
            "overflow_x": null,
            "grid_auto_flow": null,
            "grid_area": null,
            "grid_template_columns": null,
            "flex": null,
            "_model_name": "LayoutModel",
            "justify_items": null,
            "grid_row": null,
            "max_height": null,
            "align_content": null,
            "visibility": null,
            "align_self": null,
            "height": null,
            "min_height": null,
            "padding": null,
            "grid_auto_rows": null,
            "grid_gap": null,
            "max_width": null,
            "order": null,
            "_view_module_version": "1.2.0",
            "grid_template_areas": null,
            "object_position": null,
            "object_fit": null,
            "grid_auto_columns": null,
            "margin": null,
            "display": null,
            "left": null
          }
        }
      }
    }
  },
  "cells": [
    {
      "cell_type": "code",
      "metadata": {
        "id": "rOIZJmiznL-Q",
        "colab_type": "code",
        "colab": {}
      },
      "source": [
        "import torch\n",
        "import torch.nn as nn\n",
        "import torch.optim as optim\n",
        "from torch.optim import lr_scheduler\n",
        "from torch.autograd import Variable\n",
        "import numpy as np\n",
        "import torchvision\n",
        "from torchvision import datasets, models, transforms\n",
        "import matplotlib.pyplot as plt\n",
        "import time\n",
        "import os\n",
        "import copy\n",
        "from sklearn.metrics import accuracy_score\n",
        "from sklearn.metrics import multilabel_confusion_matrix\n",
        "from sklearn.metrics import f1_score"
      ],
      "execution_count": 0,
      "outputs": []
    },
    {
      "cell_type": "code",
      "metadata": {
        "id": "FSENUy-qnNKf",
        "colab_type": "code",
        "outputId": "7317fa6a-ac0d-4aea-c380-8eade93017ac",
        "colab": {
          "base_uri": "https://localhost:8080/",
          "height": 124
        }
      },
      "source": [
        "from google.colab import drive\n",
        "drive.mount('/content/drive')"
      ],
      "execution_count": 0,
      "outputs": [
        {
          "output_type": "stream",
          "text": [
            "Go to this URL in a browser: https://accounts.google.com/o/oauth2/auth?client_id=947318989803-6bn6qk8qdgf4n4g3pfee6491hc0brc4i.apps.googleusercontent.com&redirect_uri=urn%3aietf%3awg%3aoauth%3a2.0%3aoob&response_type=code&scope=email%20https%3a%2f%2fwww.googleapis.com%2fauth%2fdocs.test%20https%3a%2f%2fwww.googleapis.com%2fauth%2fdrive%20https%3a%2f%2fwww.googleapis.com%2fauth%2fdrive.photos.readonly%20https%3a%2f%2fwww.googleapis.com%2fauth%2fpeopleapi.readonly\n",
            "\n",
            "Enter your authorization code:\n",
            "··········\n",
            "Mounted at /content/drive\n"
          ],
          "name": "stdout"
        }
      ]
    },
    {
      "cell_type": "code",
      "metadata": {
        "id": "87QdsyCftAWN",
        "colab_type": "code",
        "colab": {}
      },
      "source": [
        "#!unzip -uq \"/content/drive/My Drive/Colab Notebooks/A_05_Part_02_Dataset.zip\" -d \"/content/drive/My Drive\""
      ],
      "execution_count": 0,
      "outputs": []
    },
    {
      "cell_type": "code",
      "metadata": {
        "id": "U7m8wSKGnNQa",
        "colab_type": "code",
        "outputId": "48ce4cbd-c80e-4190-bc9c-fdb96499e96d",
        "colab": {
          "base_uri": "https://localhost:8080/",
          "height": 52
        }
      },
      "source": [
        "data_dir = '/content/drive/My Drive/A5Dataset'\n",
        "#Define transforms for the training data and testing data\n",
        "train_transforms = transforms.Compose([transforms.Resize(256),\n",
        "                                      transforms.CenterCrop(224),\n",
        "                                      transforms.ToTensor(),\n",
        "                                      transforms.Normalize([0.485, 0.456, 0.406],\n",
        "                                                           [0.229, 0.224, 0.225])])\n",
        "\n",
        "test_transforms = transforms.Compose([transforms.Resize(256),\n",
        "                                      transforms.CenterCrop(224),\n",
        "                                      transforms.ToTensor(),\n",
        "                                      transforms.Normalize([0.485, 0.456, 0.406],\n",
        "                                                           [0.229, 0.224, 0.225])])\n",
        "\n",
        "#pass transform here-in\n",
        "train_data = datasets.ImageFolder(data_dir + '/Train', transform=train_transforms)\n",
        "val_data = datasets.ImageFolder(data_dir + '/Validation', transform=test_transforms)\n",
        "\n",
        "#data loaders\n",
        "trainloader = torch.utils.data.DataLoader(train_data, batch_size=64, shuffle=True)\n",
        "valloader = torch.utils.data.DataLoader(val_data, batch_size=64, shuffle=True)\n",
        "\n",
        "BATCH_SIZE=64\n",
        "print(\"Classes: \")\n",
        "class_names = train_data.classes\n",
        "print(class_names)"
      ],
      "execution_count": 0,
      "outputs": [
        {
          "output_type": "stream",
          "text": [
            "Classes: \n",
            "['covid-19', 'normal', 'pneumonia']\n"
          ],
          "name": "stdout"
        }
      ]
    },
    {
      "cell_type": "code",
      "metadata": {
        "id": "MpgA2hMX0T08",
        "colab_type": "code",
        "colab": {}
      },
      "source": [
        "def to_onehot(labels, n_categories):\n",
        "    batch_size = len(labels)\n",
        "    one_hot_labels = torch.zeros(size=(batch_size, n_categories))\n",
        "    for i, label in enumerate(labels):\n",
        "        if label==0:\n",
        "          label = torch.LongTensor([0,2])\n",
        "        else:\n",
        "          label = torch.LongTensor([label])\n",
        "        one_hot_labels[i] = one_hot_labels[i].scatter_(dim=0, index=label, value=1.)\n",
        "    return one_hot_labels\n",
        "\n",
        "def decode(labels):\n",
        "    decoded = torch.zeros(size=(len(labels), 1)).to(device)\n",
        "    for i, label in enumerate(labels):\n",
        "        if torch.eq(label,torch.tensor([1., 0., 1.],device=device)).all():\n",
        "          decoded[i] = 0\n",
        "        elif torch.eq(label,torch.tensor([0., 1., 0.],device=device)).all():\n",
        "          decoded[i] = 1\n",
        "        elif torch.eq(label,torch.tensor([0., 0., 1.],device=device)).all():\n",
        "          decoded[i] = 2\n",
        "        else:\n",
        "          decoded[i] = 3\n",
        "    return decoded\n",
        "def plot_curve(array,title, ylabel):\n",
        "  plt.figure()\n",
        "  plt.plot(array,'o', color=\"r\",marker='o',linestyle='-',\n",
        "                  linewidth=2,markersize=12)\n",
        "  plt.xlabel('Epochs')\n",
        "  plt.ylabel(ylabel)\n",
        "  plt.title(title)"
      ],
      "execution_count": 0,
      "outputs": []
    },
    {
      "cell_type": "code",
      "metadata": {
        "id": "LIDk2VHuQEE-",
        "colab_type": "code",
        "colab": {}
      },
      "source": [
        "class ImageFolderWithNames(datasets.ImageFolder):\n",
        "    def __getitem__(self, index):\n",
        "        original_tuple = super(ImageFolderWithNames, self).__getitem__(index)\n",
        "        imgName = self.imgs[index][0]\n",
        "        tuple_with_imgName = (original_tuple + (imgName,))\n",
        "        return tuple_with_imgName\n",
        "\n",
        "test_dataset = ImageFolderWithNames(data_dir + '/Test', transform=test_transforms) # our custom dataset\n",
        "testloader = torch.utils.data.DataLoader(test_dataset, batch_size=64, shuffle=True)"
      ],
      "execution_count": 0,
      "outputs": []
    },
    {
      "cell_type": "code",
      "metadata": {
        "id": "p4GlU1EYtWgY",
        "colab_type": "code",
        "colab": {}
      },
      "source": [
        "def validationTraining(model, dataloader, critertion, device,focalLoss=False):\n",
        "    \n",
        "    model.eval()    \n",
        "    accuracy = 0\n",
        "    loss = 0\n",
        "    gamma=2\n",
        "    total_predictions = torch.Tensor()\n",
        "    total_labels = torch.Tensor()\n",
        "\n",
        "    for i, data in enumerate(dataloader):\n",
        "        inputs, labels = data\n",
        "        inputs, labels = inputs.to(device), labels.to(device)\n",
        "\n",
        "        labels_encoded = to_onehot(labels, n_categories=3)\n",
        "        labels_encoded = labels_encoded.to(device)\n",
        "\n",
        "        outputs = model(inputs)             #----> forward pass\n",
        "\n",
        "        prediction = torch.sigmoid(outputs)\n",
        "        prediction_encoded = (prediction>0.5).float()\n",
        "\n",
        "        total_predictions = torch.cat((total_predictions,prediction_encoded.cpu()))\n",
        "        total_labels = torch.cat((total_labels,labels_encoded.cpu()))\n",
        "        \n",
        "        accuracy += accuracy_score(labels_encoded.cpu().numpy(), prediction_encoded.cpu().numpy())\n",
        "        \n",
        "        if focalLoss:\n",
        "          BCEloss = criterion(outputs, labels_encoded)\n",
        "          pt = torch.exp(-BCEloss)\n",
        "          loss += ((1-pt)**gamma * BCEloss).mean().item()\n",
        "        else:\n",
        "          loss += criterion(outputs, labels_encoded).item()\n",
        "        \n",
        "    \n",
        "    avg_accuracy = (accuracy/len(dataloader))*100.\n",
        "    mean_loss = (loss/len(dataloader))\n",
        "    confusion_matrix = multilabel_confusion_matrix(total_labels.numpy(), total_predictions.numpy())\n",
        "    f1_sc = f1_score(total_labels.numpy(), total_predictions.numpy(), average='weighted')\n",
        "    \n",
        "    return avg_accuracy, mean_loss, confusion_matrix, f1_sc\n",
        "\n",
        "def train(model, dataloader, critertion, optimizer, device, epoch, focalLoss=False):\n",
        "  \n",
        "    model.train()  \n",
        "    \n",
        "    total_predictions = torch.Tensor()\n",
        "    total_labels = torch.Tensor()\n",
        "    running_loss = 0\n",
        "    accuracy = 0  \n",
        "    gamma = 2\n",
        "\n",
        "    for i, data in enumerate(dataloader):    # train loop \n",
        "        \n",
        "        inputs, labels = data\n",
        "        inputs, labels = inputs.to(device), labels.to(device)\n",
        "        \n",
        "        labels_encoded = to_onehot(labels, n_categories=3)\n",
        "        labels_encoded = labels_encoded.to(device)\n",
        "        \n",
        "        optimizer.zero_grad()\n",
        "        outputs = model(inputs)               #----> forward pass\n",
        "        \n",
        "        if focalLoss:\n",
        "          BCEloss = criterion(outputs, labels_encoded)\n",
        "          pt = torch.exp(-BCEloss)\n",
        "          loss = ((1-pt)**gamma * BCEloss).mean()\n",
        "          loss.backward() \n",
        "          running_loss += loss.item()\n",
        "        else:\n",
        "          loss = criterion(outputs, labels_encoded)\n",
        "          loss.backward()\n",
        "          running_loss += loss.item()\n",
        "\n",
        "        optimizer.step()                    #----> weights update\n",
        "        \n",
        "        prediction = torch.sigmoid(outputs)\n",
        "        prediction_encoded = (prediction>0.5).float()\n",
        "        \n",
        "        total_predictions = torch.cat((total_predictions,prediction_encoded.cpu()))\n",
        "        total_labels = torch.cat((total_labels,labels_encoded.cpu()))\n",
        "\n",
        "        accuracy += accuracy_score(labels_encoded.cpu().numpy(), prediction_encoded.cpu().numpy())\n",
        "    \n",
        "    avg_accuracy = (accuracy/len(dataloader))*100.\n",
        "    mean_loss = (running_loss/len(dataloader))\n",
        "    confusion_matrix = multilabel_confusion_matrix(total_labels.numpy(), total_predictions.numpy())\n",
        "    f1_sc = f1_score(total_labels.numpy(), total_predictions.numpy(), average='weighted')\n",
        "    \n",
        "    return avg_accuracy, mean_loss, confusion_matrix, f1_sc\n"
      ],
      "execution_count": 0,
      "outputs": []
    },
    {
      "cell_type": "markdown",
      "metadata": {
        "id": "Q3rfhvsmtgq7",
        "colab_type": "text"
      },
      "source": [
        "With Focal Loss"
      ]
    },
    {
      "cell_type": "markdown",
      "metadata": {
        "id": "gK0X6EQ_HSnG",
        "colab_type": "text"
      },
      "source": [
        "VGG"
      ]
    },
    {
      "cell_type": "code",
      "metadata": {
        "id": "pz4GAY0PI4Yb",
        "colab_type": "code",
        "outputId": "fdde3907-e321-49e4-bd16-6f05fbd4c998",
        "colab": {
          "base_uri": "https://localhost:8080/",
          "height": 104,
          "referenced_widgets": [
            "13cafa3092c54eafab249b1f46d0a298",
            "356f7b063d7244998ac5a043803cf85e",
            "ee3c6ad082234f529c13d5e60b7ec1c4",
            "55f785b5fc564aa29ec7824e60cecb46",
            "98a2465f42284a74a3e3ac5c47de4843",
            "c3d645b3f7474199aa50646e9d53476c",
            "27df3ec7b9614559864ce6333ed7a49a",
            "6dfcbe40364645819e44a0578f6b6eb0"
          ]
        }
      },
      "source": [
        "vgg16 = models.vgg16(pretrained=True)\n",
        "\n",
        "num_features = vgg16.classifier[0].in_features\n",
        "\n",
        "for param in vgg16.parameters():         # Freeze all conv layers\n",
        "    param.requires_grad = False\n",
        "    \n",
        "num_classes = 3\n",
        "\n",
        "classifiers = [nn.Linear(num_features, 1000), \n",
        "            nn.ReLU(inplace=True), \n",
        "            nn.Dropout(p=0.5, inplace=False), \n",
        "            nn.Linear(1000, num_classes)]\n",
        "vgg16.classifier = nn.Sequential(*classifiers)"
      ],
      "execution_count": 0,
      "outputs": [
        {
          "output_type": "stream",
          "text": [
            "Downloading: \"https://download.pytorch.org/models/vgg16-397923af.pth\" to /root/.cache/torch/checkpoints/vgg16-397923af.pth\n"
          ],
          "name": "stderr"
        },
        {
          "output_type": "display_data",
          "data": {
            "application/vnd.jupyter.widget-view+json": {
              "model_id": "13cafa3092c54eafab249b1f46d0a298",
              "version_minor": 0,
              "version_major": 2
            },
            "text/plain": [
              "HBox(children=(IntProgress(value=0, max=553433881), HTML(value='')))"
            ]
          },
          "metadata": {
            "tags": []
          }
        },
        {
          "output_type": "stream",
          "text": [
            "\n"
          ],
          "name": "stdout"
        }
      ]
    },
    {
      "cell_type": "code",
      "metadata": {
        "id": "sSCwaG351CTg",
        "colab_type": "code",
        "outputId": "1b807fb4-6a4a-4a39-fddf-58aaf5680f31",
        "colab": {
          "base_uri": "https://localhost:8080/",
          "height": 297
        }
      },
      "source": [
        "train_loss_arr_fc = []\n",
        "train_acc_arr_fc = []\n",
        "val_loss_arr_fc = []\n",
        "val_acc_arr_fc = []\n",
        "train_confusion_matrix_fc=[]\n",
        "val_confusion_matrix_fc=[]\n",
        "train_f1_fc=[]\n",
        "val_f1_fc=[]\n",
        "\n",
        "Epochs = 15\n",
        "criterion = nn.BCEWithLogitsLoss()\n",
        "optimizer = optim.SGD(vgg16.parameters(), lr=0.001, momentum=0.9)\n",
        "\n",
        "device = torch.device(\"cuda:0\" if torch.cuda.is_available() else \"cpu\")\n",
        "\n",
        "vgg16.to(device)\n",
        "\n",
        "best_accuracy_fc=0\n",
        "\n",
        "for epoch in range(Epochs):\n",
        "    train_acc, train_loss, train_cf, t_f1 = train(vgg16, trainloader, criterion, optimizer, device, epoch,focalLoss=True)\n",
        "    val_acc, val_loss, val_cf, v_f1 = validationTraining(vgg16, valloader, criterion, device,focalLoss=True)\n",
        "\n",
        "    print(\"Epoch {:2d} \\t \\\n",
        "           Training Loss: {:.4f}\\t \\\n",
        "           Training Accuracy: {:.2f}\\t \\\n",
        "           Validation Loss: {:.4f}\\t \\\n",
        "           Validation Accuracy: {:.2f}\\t\".format(epoch,\n",
        "                                                train_loss, \n",
        "                                                train_acc, \n",
        "                                                val_loss, \n",
        "                                                val_acc))\n",
        "\n",
        "    train_loss_arr_fc.append(train_loss)\n",
        "    train_acc_arr_fc.append(train_acc)\n",
        "    val_loss_arr_fc.append(val_loss)\n",
        "    val_acc_arr_fc.append(val_acc)\n",
        "    train_confusion_matrix_fc.append(train_cf)\n",
        "    val_confusion_matrix_fc.append(val_cf)\n",
        "    train_f1_fc.append(t_f1)\n",
        "    val_f1_fc.append(v_f1)\n",
        "\n",
        "    if val_acc_arr_fc[-1] > best_accuracy_fc:\n",
        "      best_accuracy_fc = val_acc_arr_fc[-1]\n",
        "      torch.save(vgg16.state_dict(), './vgg16_focal_loss.pth')"
      ],
      "execution_count": 0,
      "outputs": [
        {
          "output_type": "stream",
          "text": [
            "Epoch  0 \t            Training Loss: 0.0421\t            Training Accuracy: 70.73\t            Validation Loss: 0.0211\t            Validation Accuracy: 84.00\t\n",
            "Epoch  1 \t            Training Loss: 0.0186\t            Training Accuracy: 81.87\t            Validation Loss: 0.0162\t            Validation Accuracy: 84.47\t\n",
            "Epoch  2 \t            Training Loss: 0.0151\t            Training Accuracy: 82.95\t            Validation Loss: 0.0131\t            Validation Accuracy: 85.44\t\n",
            "Epoch  3 \t            Training Loss: 0.0128\t            Training Accuracy: 83.64\t            Validation Loss: 0.0116\t            Validation Accuracy: 84.99\t\n",
            "Epoch  4 \t            Training Loss: 0.0117\t            Training Accuracy: 84.07\t            Validation Loss: 0.0106\t            Validation Accuracy: 86.26\t\n",
            "Epoch  5 \t            Training Loss: 0.0105\t            Training Accuracy: 84.50\t            Validation Loss: 0.0096\t            Validation Accuracy: 86.26\t\n",
            "Epoch  6 \t            Training Loss: 0.0100\t            Training Accuracy: 85.14\t            Validation Loss: 0.0097\t            Validation Accuracy: 86.43\t\n",
            "Epoch  7 \t            Training Loss: 0.0089\t            Training Accuracy: 85.49\t            Validation Loss: 0.0092\t            Validation Accuracy: 86.08\t\n",
            "Epoch  8 \t            Training Loss: 0.0089\t            Training Accuracy: 85.67\t            Validation Loss: 0.0090\t            Validation Accuracy: 86.83\t\n",
            "Epoch  9 \t            Training Loss: 0.0083\t            Training Accuracy: 86.45\t            Validation Loss: 0.0080\t            Validation Accuracy: 87.08\t\n",
            "Epoch 10 \t            Training Loss: 0.0077\t            Training Accuracy: 86.46\t            Validation Loss: 0.0080\t            Validation Accuracy: 86.81\t\n",
            "Epoch 11 \t            Training Loss: 0.0073\t            Training Accuracy: 86.38\t            Validation Loss: 0.0080\t            Validation Accuracy: 86.77\t\n",
            "Epoch 12 \t            Training Loss: 0.0072\t            Training Accuracy: 86.77\t            Validation Loss: 0.0077\t            Validation Accuracy: 85.93\t\n",
            "Epoch 13 \t            Training Loss: 0.0068\t            Training Accuracy: 86.67\t            Validation Loss: 0.0070\t            Validation Accuracy: 86.57\t\n",
            "Epoch 14 \t            Training Loss: 0.0065\t            Training Accuracy: 87.15\t            Validation Loss: 0.0073\t            Validation Accuracy: 87.30\t\n"
          ],
          "name": "stdout"
        }
      ]
    },
    {
      "cell_type": "code",
      "metadata": {
        "id": "XAiAWKdmkw_6",
        "colab_type": "code",
        "outputId": "1a5ba134-ad01-4700-c2d2-bbc52da82fb8",
        "colab": {
          "base_uri": "https://localhost:8080/",
          "height": 1000
        }
      },
      "source": [
        "print('Training Confusion Matrix: \\n',train_confusion_matrix_fc[-1])\n",
        "print('Validation Confusion Matrix: \\n',val_confusion_matrix_fc[-1])\n",
        "print('Training F1 Score: \\n',train_f1_fc[-1])\n",
        "print('Validation F1 Score: \\n',val_f1_fc[-1])\n",
        "def plot_curve(array,title, ylabel):\n",
        "  plt.figure()\n",
        "  plt.plot(array,'o', color=\"r\",marker='o',linestyle='-',\n",
        "                  linewidth=2,markersize=12)\n",
        "  plt.xlabel('Epochs')\n",
        "  plt.ylabel(ylabel)\n",
        "  plt.title(title)\n",
        "\n",
        "plot_curve(train_loss_arr_fc,'Tarining: Error on each Epoch','Error')\n",
        "plot_curve(train_acc_arr_fc,'Tarining: Accuracy on each Epoch','Accuracy')\n",
        "plot_curve(val_loss_arr_fc,'Validation: Error on each Epoch','Error')\n",
        "plot_curve(val_acc_arr_fc,'Validation: Accuracy on each Epoch','Accuracy')"
      ],
      "execution_count": 0,
      "outputs": [
        {
          "output_type": "stream",
          "text": [
            "Training Confusion Matrix: \n",
            " [[[6000    0]\n",
            "  [ 189   11]]\n",
            "\n",
            " [[1848  352]\n",
            "  [ 231 3769]]\n",
            "\n",
            " [[3766  234]\n",
            "  [ 345 1855]]]\n",
            "Validation Confusion Matrix: \n",
            " [[[600   0]\n",
            "  [ 28   0]]\n",
            "\n",
            " [[187  41]\n",
            "  [ 15 385]]\n",
            "\n",
            " [[383  17]\n",
            "  [ 43 185]]]\n",
            "Training F1 Score: \n",
            " 0.8807350032149353\n",
            "Validation F1 Score: \n",
            " 0.8674807964082794\n"
          ],
          "name": "stdout"
        },
        {
          "output_type": "display_data",
          "data": {
            "image/png": "[encoded data removed]",
            "text/plain": [
              "<Figure size 432x288 with 1 Axes>"
            ]
          },
          "metadata": {
            "tags": [],
            "needs_background": "light"
          }
        },
        {
          "output_type": "display_data",
          "data": {
            "image/png": "[encoded data removed]",
            "text/plain": [
              "<Figure size 432x288 with 1 Axes>"
            ]
          },
          "metadata": {
            "tags": [],
            "needs_background": "light"
          }
        },
        {
          "output_type": "display_data",
          "data": {
            "image/png": "[encoded data removed]",
            "text/plain": [
              "<Figure size 432x288 with 1 Axes>"
            ]
          },
          "metadata": {
            "tags": [],
            "needs_background": "light"
          }
        },
        {
          "output_type": "display_data",
          "data": {
            "image/png": "[encoded data removed]",
            "text/plain": [
              "<Figure size 432x288 with 1 Axes>"
            ]
          },
          "metadata": {
            "tags": [],
            "needs_background": "light"
          }
        }
      ]
    },
    {
      "cell_type": "code",
      "metadata": {
        "id": "zKr6g6CHlmKL",
        "colab_type": "code",
        "colab": {}
      },
      "source": [
        "total_predictions_fc = torch.Tensor()\n",
        "imageNames_fc = []\n",
        "\n",
        "with torch.no_grad():\n",
        "    for data in testloader:\n",
        "        images, labels, paths = data\n",
        "        images, labels = images.to(device), labels.to(device)\n",
        "        outputs = vgg16(images)\n",
        "\n",
        "        prediction = torch.sigmoid(outputs)\n",
        "        prediction_encoded = (prediction>0.5).float()\n",
        "        \n",
        "        total_predictions_fc = torch.cat((total_predictions_fc,prediction_encoded.cpu()))\n",
        "        imageNames_fc.extend([os.path.basename(path) for path in paths])\n",
        "\n",
        "imageNames_fc = np.array( imageNames_fc ).reshape(len(imageNames_fc),1)\n",
        "index = [0,2,1]\n",
        "arranged_predictions_fc = total_predictions_fc.numpy()[:,index]\n",
        "FinalCSVFile_fc = np.concatenate([imageNames_fc,arranged_predictions_fc],axis=1) \n",
        "np.savetxt(\"MSDS19014_results.csv\", FinalCSVFile_fc, delimiter=\",\", header='image,covid-19,pneumonia,normal', fmt='%s')"
      ],
      "execution_count": 0,
      "outputs": []
    },
    {
      "cell_type": "markdown",
      "metadata": {
        "id": "HQZKtr-8mcBa",
        "colab_type": "text"
      },
      "source": [
        "RESNET"
      ]
    },
    {
      "cell_type": "code",
      "metadata": {
        "id": "GmloODpKmeNl",
        "colab_type": "code",
        "outputId": "f404e777-af3b-43fc-a71a-c84333598b8b",
        "colab": {
          "base_uri": "https://localhost:8080/",
          "height": 104,
          "referenced_widgets": [
            "4d2a4a36a05b4bf6a240128a9331d965",
            "8f40edc9e6ac4c4a8aa45abd54bcbd76",
            "8380b69d8b94420abc88ca4afdb4840c",
            "f6fd9bc7048842679ac4d8340cc1e847",
            "76f808d721814f08b07436880f8be56a",
            "08e883235b6b4bfe91275ef60403d661",
            "e1ed58d1a819404a9856706002a2aa78",
            "db4cfbe7285940c8bcf8bb958d3d8021"
          ]
        }
      },
      "source": [
        "# Load the pretrained model from pytorch\n",
        "res18 = models.resnet18(pretrained=True)\n",
        "\n",
        "# Freeze training for all layers\n",
        "for param in res18.parameters():\n",
        "    param.require_grad = False\n",
        "\n",
        "res18.fc = nn.Sequential(nn.Linear(512, 1000),nn.ReLU(inplace=True),nn.Dropout(p=0.5, inplace=False),nn.Linear(1000, 3),nn.ReLU(inplace=True))\n"
      ],
      "execution_count": 0,
      "outputs": [
        {
          "output_type": "stream",
          "text": [
            "Downloading: \"https://download.pytorch.org/models/resnet18-5c106cde.pth\" to /root/.cache/torch/checkpoints/resnet18-5c106cde.pth\n"
          ],
          "name": "stderr"
        },
        {
          "output_type": "display_data",
          "data": {
            "application/vnd.jupyter.widget-view+json": {
              "model_id": "4d2a4a36a05b4bf6a240128a9331d965",
              "version_minor": 0,
              "version_major": 2
            },
            "text/plain": [
              "HBox(children=(IntProgress(value=0, max=46827520), HTML(value='')))"
            ]
          },
          "metadata": {
            "tags": []
          }
        },
        {
          "output_type": "stream",
          "text": [
            "\n"
          ],
          "name": "stdout"
        }
      ]
    },
    {
      "cell_type": "code",
      "metadata": {
        "id": "WJ4CdrBihtO5",
        "colab_type": "code",
        "outputId": "9577604e-16c6-44bd-9fa8-91c777aaa968",
        "colab": {
          "base_uri": "https://localhost:8080/",
          "height": 297
        }
      },
      "source": [
        "train_loss_arr_resnet_fc = []\n",
        "train_acc_arr_resnet_fc = []\n",
        "val_loss_arr_resnet_fc = []\n",
        "val_acc_arr_resnet_fc = []\n",
        "train_confusion_matrix_resnet_fc=[]\n",
        "val_confusion_matrix_resnet_fc=[]\n",
        "train_f1_resnet_fc=[]\n",
        "val_f1_resnet_fc=[]\n",
        "\n",
        "\n",
        "Epochs = 15\n",
        "criterion = nn.BCEWithLogitsLoss()\n",
        "optimizer = optim.SGD(res18.parameters(), lr=0.001, momentum=0.9)\n",
        "\n",
        "res18.to(device)\n",
        "best_accuracy_resnet_fc=0\n",
        "\n",
        "for epoch in range(Epochs):\n",
        "    train_acc, train_loss, train_cf, t_f1 = train(res18, trainloader, criterion, optimizer, device, epoch,focalLoss=True)\n",
        "    val_acc, val_loss, val_cf, v_f1 = validationTraining(res18, valloader, criterion, device,focalLoss=True)\n",
        "\n",
        "    print(\"Epoch {:2d} \\t \\\n",
        "           Training Loss: {:.4f}\\t \\\n",
        "           Training Accuracy: {:.2f}\\t \\\n",
        "           Validation Loss: {:.4f}\\t \\\n",
        "           Validation Accuracy: {:.2f}\\t\".format(epoch,\n",
        "                                                train_loss, \n",
        "                                                train_acc, \n",
        "                                                val_loss, \n",
        "                                                val_acc))\n",
        "\n",
        "    train_loss_arr_resnet_fc.append(train_loss)\n",
        "    train_acc_arr_resnet_fc.append(train_acc)\n",
        "    val_loss_arr_resnet_fc.append(val_loss)\n",
        "    val_acc_arr_resnet_fc.append(val_acc)\n",
        "    train_confusion_matrix_resnet_fc.append(train_cf)\n",
        "    val_confusion_matrix_resnet_fc.append(val_cf)\n",
        "    train_f1_resnet_fc.append(t_f1)\n",
        "    val_f1_resnet_fc.append(v_f1)\n",
        "\n",
        "    if val_acc_arr_resnet_fc[-1] > best_accuracy_resnet_fc:\n",
        "      best_accuracy_resnet_fc = val_acc_arr_resnet_fc[-1]\n",
        "      torch.save(res18.state_dict(), './res18_focal_loss.pth')"
      ],
      "execution_count": 0,
      "outputs": [
        {
          "output_type": "stream",
          "text": [
            "Epoch  0 \t            Training Loss: 0.1555\t            Training Accuracy: 57.89\t            Validation Loss: 0.1431\t            Validation Accuracy: 63.69\t\n",
            "Epoch  1 \t            Training Loss: 0.1385\t            Training Accuracy: 62.61\t            Validation Loss: 0.1310\t            Validation Accuracy: 63.45\t\n",
            "Epoch  2 \t            Training Loss: 0.1305\t            Training Accuracy: 62.61\t            Validation Loss: 0.1259\t            Validation Accuracy: 63.29\t\n",
            "Epoch  3 \t            Training Loss: 0.1260\t            Training Accuracy: 62.47\t            Validation Loss: 0.1233\t            Validation Accuracy: 63.29\t\n",
            "Epoch  4 \t            Training Loss: 0.1232\t            Training Accuracy: 62.30\t            Validation Loss: 0.1215\t            Validation Accuracy: 62.37\t\n",
            "Epoch  5 \t            Training Loss: 0.1202\t            Training Accuracy: 62.54\t            Validation Loss: 0.1205\t            Validation Accuracy: 61.96\t\n",
            "Epoch  6 \t            Training Loss: 0.1179\t            Training Accuracy: 62.69\t            Validation Loss: 0.1190\t            Validation Accuracy: 62.00\t\n",
            "Epoch  7 \t            Training Loss: 0.1169\t            Training Accuracy: 62.66\t            Validation Loss: 0.1176\t            Validation Accuracy: 61.12\t\n",
            "Epoch  8 \t            Training Loss: 0.1158\t            Training Accuracy: 62.72\t            Validation Loss: 0.1174\t            Validation Accuracy: 62.18\t\n",
            "Epoch  9 \t            Training Loss: 0.1150\t            Training Accuracy: 62.64\t            Validation Loss: 0.1171\t            Validation Accuracy: 62.32\t\n",
            "Epoch 10 \t            Training Loss: 0.1138\t            Training Accuracy: 62.64\t            Validation Loss: 0.1165\t            Validation Accuracy: 61.85\t\n",
            "Epoch 11 \t            Training Loss: 0.1133\t            Training Accuracy: 62.65\t            Validation Loss: 0.1163\t            Validation Accuracy: 62.28\t\n",
            "Epoch 12 \t            Training Loss: 0.1127\t            Training Accuracy: 62.90\t            Validation Loss: 0.1164\t            Validation Accuracy: 62.08\t\n",
            "Epoch 13 \t            Training Loss: 0.1124\t            Training Accuracy: 63.25\t            Validation Loss: 0.1151\t            Validation Accuracy: 62.00\t\n",
            "Epoch 14 \t            Training Loss: 0.1113\t            Training Accuracy: 64.59\t            Validation Loss: 0.1161\t            Validation Accuracy: 63.23\t\n"
          ],
          "name": "stdout"
        }
      ]
    },
    {
      "cell_type": "code",
      "metadata": {
        "id": "gCRr-rCnwXmC",
        "colab_type": "code",
        "outputId": "9eea7a8e-10d3-48ab-ec8d-010866d07968",
        "colab": {
          "base_uri": "https://localhost:8080/",
          "height": 1000
        }
      },
      "source": [
        "print('Training Confusion Matrix: \\n',train_confusion_matrix_resnet_fc[-1])\n",
        "print('Validation Confusion Matrix: \\n',val_confusion_matrix_resnet_fc[-1])\n",
        "print('Training F1 Score: \\n',train_f1_resnet_fc[-1])\n",
        "print('Validation F1 Score: \\n',val_f1_resnet_fc[-1])\n",
        "\n",
        "plot_curve(train_loss_arr_resnet_fc,'Tarining: Error on each Epoch','Error')\n",
        "plot_curve(train_acc_arr_resnet_fc,'Tarining: Accuracy on each Epoch','Accuracy')\n",
        "plot_curve(val_loss_arr_resnet_fc,'Validation: Error on each Epoch','Error')\n",
        "plot_curve(val_acc_arr_resnet_fc,'Validation: Accuracy on each Epoch','Accuracy')"
      ],
      "execution_count": 0,
      "outputs": [
        {
          "output_type": "stream",
          "text": [
            "Training Confusion Matrix: \n",
            " [[[5995    5]\n",
            "  [ 200    0]]\n",
            "\n",
            " [[1816  384]\n",
            "  [ 111 3889]]\n",
            "\n",
            " [[3945   55]\n",
            "  [2009  191]]]\n",
            "Validation Confusion Matrix: \n",
            " [[[600   0]\n",
            "  [ 28   0]]\n",
            "\n",
            " [[195  33]\n",
            "  [ 13 387]]\n",
            "\n",
            " [[399   1]\n",
            "  [216  12]]]\n",
            "Training F1 Score: \n",
            " 0.6412888418857351\n",
            "Validation F1 Score: \n",
            " 0.6101621490863223\n"
          ],
          "name": "stdout"
        },
        {
          "output_type": "display_data",
          "data": {
            "image/png": "[encoded data removed]",
            "text/plain": [
              "<Figure size 432x288 with 1 Axes>"
            ]
          },
          "metadata": {
            "tags": [],
            "needs_background": "light"
          }
        },
        {
          "output_type": "display_data",
          "data": {
            "image/png": "[encoded data removed]",
            "text/plain": [
              "<Figure size 432x288 with 1 Axes>"
            ]
          },
          "metadata": {
            "tags": [],
            "needs_background": "light"
          }
        },
        {
          "output_type": "display_data",
          "data": {
            "image/png": "[encoded data removed]",
            "text/plain": [
              "<Figure size 432x288 with 1 Axes>"
            ]
          },
          "metadata": {
            "tags": [],
            "needs_background": "light"
          }
        },
        {
          "output_type": "display_data",
          "data": {
            "image/png": "[encoded data removed]",
            "text/plain": [
              "<Figure size 432x288 with 1 Axes>"
            ]
          },
          "metadata": {
            "tags": [],
            "needs_background": "light"
          }
        }
      ]
    },
    {
      "cell_type": "code",
      "metadata": {
        "id": "HN6Xwsrcwfal",
        "colab_type": "code",
        "colab": {}
      },
      "source": [
        "total_predictions_resnet_fc = torch.Tensor()\n",
        "imageNames_resnet_fc = []\n",
        "\n",
        "with torch.no_grad():\n",
        "    for data in testloader:\n",
        "        images, labels, paths = data\n",
        "        images, labels = images.to(device), labels.to(device)\n",
        "        outputs = res18(images)\n",
        "\n",
        "        prediction = torch.sigmoid(outputs)\n",
        "        prediction_encoded = (prediction>0.5).float()\n",
        "        \n",
        "        total_predictions_resnet_fc = torch.cat((total_predictions_resnet_fc,prediction_encoded.cpu()))\n",
        "        imageNames_resnet_fc.extend([os.path.basename(path) for path in paths])\n",
        "\n",
        "imageNames_resnet_fc = np.array( imageNames_resnet_fc ).reshape(len(imageNames_resnet_fc),1)\n",
        "index = [0,2,1]\n",
        "arranged_predictions_resnet_fc = total_predictions_resnet_fc.numpy()[:,index]\n",
        "FinalCSVFile_resnet_fc = np.concatenate([imageNames_resnet_fc,arranged_predictions_resnet_fc],axis=1) \n",
        "np.savetxt(\"MSDS19014_results_resnet_fc.csv\", FinalCSVFile_resnet_fc, delimiter=\",\", header='image,covid-19,pneumonia,normal', fmt='%s')"
      ],
      "execution_count": 0,
      "outputs": []
    },
    {
      "cell_type": "markdown",
      "metadata": {
        "id": "3qJ4yfLvyhh7",
        "colab_type": "text"
      },
      "source": [
        "Without Focal Loss"
      ]
    },
    {
      "cell_type": "markdown",
      "metadata": {
        "id": "A_Ofb0kSHaA0",
        "colab_type": "text"
      },
      "source": [
        "VGG"
      ]
    },
    {
      "cell_type": "code",
      "metadata": {
        "id": "5DlgwVcIy5aj",
        "colab_type": "code",
        "colab": {}
      },
      "source": [
        "vgg16 = models.vgg16(pretrained=True)\n",
        "\n",
        "num_features = vgg16.classifier[0].in_features\n",
        "\n",
        "for param in vgg16.parameters():         # Freeze all conv layers\n",
        "    param.requires_grad = False\n",
        "    \n",
        "num_classes = 3\n",
        "\n",
        "classifiers = [nn.Linear(num_features, 1000), \n",
        "            nn.ReLU(inplace=True), \n",
        "            nn.Dropout(p=0.5, inplace=False), \n",
        "            nn.Linear(1000, num_classes)]\n",
        "vgg16.classifier = nn.Sequential(*classifiers)\n",
        "\n",
        "criterion = nn.BCEWithLogitsLoss()\n",
        "optimizer = optim.SGD(vgg16.parameters(), lr=0.001, momentum=0.9)"
      ],
      "execution_count": 0,
      "outputs": []
    },
    {
      "cell_type": "code",
      "metadata": {
        "id": "VwDLK8oSycJY",
        "colab_type": "code",
        "outputId": "8c1fb740-80cb-4cb4-ad43-f7702b04cf90",
        "colab": {
          "base_uri": "https://localhost:8080/",
          "height": 297
        }
      },
      "source": [
        "train_loss_arr = []\n",
        "train_acc_arr = []\n",
        "val_loss_arr = []\n",
        "val_acc_arr = []\n",
        "train_confusion_matrix=[]\n",
        "val_confusion_matrix=[]\n",
        "train_f1=[]\n",
        "val_f1=[]\n",
        "\n",
        "vgg16.to(device)\n",
        "best_accuracy=0\n",
        "for epoch in range(Epochs):\n",
        "    train_acc, train_loss, train_cf, t_f1 = train(vgg16, trainloader, criterion, optimizer, device, epoch,focalLoss=False)\n",
        "    val_acc, val_loss, val_cf, v_f1 = validationTraining(vgg16, valloader, criterion, device,focalLoss=False)\n",
        "\n",
        "    print(\"Epoch {:2d} \\t \\\n",
        "           Training Loss: {:.4f}\\t \\\n",
        "           Training Accuracy: {:.2f}\\t \\\n",
        "           Validation Loss: {:.4f}\\t \\\n",
        "           Validation Accuracy: {:.2f}\\t\".format(epoch,\n",
        "                                                train_loss, \n",
        "                                                train_acc, \n",
        "                                                val_loss, \n",
        "                                                val_acc))\n",
        "\n",
        "    train_loss_arr.append(train_loss)\n",
        "    train_acc_arr.append(train_acc)\n",
        "    val_loss_arr.append(val_loss)\n",
        "    val_acc_arr.append(val_acc)\n",
        "    train_confusion_matrix.append(train_cf)\n",
        "    val_confusion_matrix.append(val_cf)\n",
        "    train_f1.append(t_f1)\n",
        "    val_f1.append(v_f1)\n",
        "\n",
        "    if val_acc_arr[-1] > best_accuracy:\n",
        "      best_accuracy = val_acc_arr[-1]\n",
        "      torch.save(vgg16.state_dict(), './vgg16.pth')"
      ],
      "execution_count": 0,
      "outputs": [
        {
          "output_type": "stream",
          "text": [
            "Epoch  0 \t            Training Loss: 0.3230\t            Training Accuracy: 76.38\t            Validation Loss: 0.2370\t            Validation Accuracy: 85.01\t\n",
            "Epoch  1 \t            Training Loss: 0.2226\t            Training Accuracy: 85.09\t            Validation Loss: 0.2078\t            Validation Accuracy: 86.47\t\n",
            "Epoch  2 \t            Training Loss: 0.1907\t            Training Accuracy: 87.17\t            Validation Loss: 0.1960\t            Validation Accuracy: 87.02\t\n",
            "Epoch  3 \t            Training Loss: 0.1727\t            Training Accuracy: 88.66\t            Validation Loss: 0.1876\t            Validation Accuracy: 88.00\t\n",
            "Epoch  4 \t            Training Loss: 0.1605\t            Training Accuracy: 89.30\t            Validation Loss: 0.1930\t            Validation Accuracy: 89.54\t\n",
            "Epoch  5 \t            Training Loss: 0.1529\t            Training Accuracy: 90.38\t            Validation Loss: 0.1780\t            Validation Accuracy: 89.12\t\n",
            "Epoch  6 \t            Training Loss: 0.1441\t            Training Accuracy: 91.14\t            Validation Loss: 0.1699\t            Validation Accuracy: 88.88\t\n",
            "Epoch  7 \t            Training Loss: 0.1336\t            Training Accuracy: 91.73\t            Validation Loss: 0.1714\t            Validation Accuracy: 89.13\t\n",
            "Epoch  8 \t            Training Loss: 0.1258\t            Training Accuracy: 92.14\t            Validation Loss: 0.1660\t            Validation Accuracy: 90.20\t\n",
            "Epoch  9 \t            Training Loss: 0.1203\t            Training Accuracy: 92.67\t            Validation Loss: 0.1665\t            Validation Accuracy: 89.86\t\n",
            "Epoch 10 \t            Training Loss: 0.1117\t            Training Accuracy: 93.13\t            Validation Loss: 0.1649\t            Validation Accuracy: 89.94\t\n",
            "Epoch 11 \t            Training Loss: 0.1067\t            Training Accuracy: 93.79\t            Validation Loss: 0.1638\t            Validation Accuracy: 89.98\t\n",
            "Epoch 12 \t            Training Loss: 0.1007\t            Training Accuracy: 93.76\t            Validation Loss: 0.1659\t            Validation Accuracy: 90.91\t\n",
            "Epoch 13 \t            Training Loss: 0.0959\t            Training Accuracy: 94.31\t            Validation Loss: 0.1645\t            Validation Accuracy: 90.29\t\n",
            "Epoch 14 \t            Training Loss: 0.0914\t            Training Accuracy: 94.58\t            Validation Loss: 0.1625\t            Validation Accuracy: 90.06\t\n"
          ],
          "name": "stdout"
        }
      ]
    },
    {
      "cell_type": "code",
      "metadata": {
        "id": "SgSKidBNydF_",
        "colab_type": "code",
        "outputId": "3a8f73c8-d6dd-42c4-d578-664e269c03ee",
        "colab": {
          "base_uri": "https://localhost:8080/",
          "height": 1000
        }
      },
      "source": [
        "print('Training Confusion Matrix: \\n',train_confusion_matrix[-1])\n",
        "print('Validation Confusion Matrix: \\n',val_confusion_matrix[-1])\n",
        "print('Training F1 Score: \\n',train_f1[-1])\n",
        "print('Validation F1 Score: \\n',val_f1[-1])\n",
        "\n",
        "plot_curve(train_loss_arr,'Tarining: Error on each Epoch','Error')\n",
        "plot_curve(train_acc_arr,'Tarining: Accuracy on each Epoch','Accuracy')\n",
        "plot_curve(val_loss_arr,'Validation: Error on each Epoch','Error')\n",
        "plot_curve(val_acc_arr,'Validation: Accuracy on each Epoch','Accuracy')"
      ],
      "execution_count": 0,
      "outputs": [
        {
          "output_type": "stream",
          "text": [
            "Training Confusion Matrix: \n",
            " [[[5996    4]\n",
            "  [  59  141]]\n",
            "\n",
            " [[2038  162]\n",
            "  [  95 3905]]\n",
            "\n",
            " [[3916   84]\n",
            "  [ 168 2032]]]\n",
            "Validation Confusion Matrix: \n",
            " [[[600   0]\n",
            "  [ 12  16]]\n",
            "\n",
            " [[195  33]\n",
            "  [ 23 377]]\n",
            "\n",
            " [[379  21]\n",
            "  [ 33 195]]]\n",
            "Training F1 Score: \n",
            " 0.9543114436774749\n",
            "Validation F1 Score: \n",
            " 0.903932295192458\n"
          ],
          "name": "stdout"
        },
        {
          "output_type": "display_data",
          "data": {
            "image/png": "[encoded data removed]",
            "text/plain": [
              "<Figure size 432x288 with 1 Axes>"
            ]
          },
          "metadata": {
            "tags": [],
            "needs_background": "light"
          }
        },
        {
          "output_type": "display_data",
          "data": {
            "image/png": "[encoded data removed]",
            "text/plain": [
              "<Figure size 432x288 with 1 Axes>"
            ]
          },
          "metadata": {
            "tags": [],
            "needs_background": "light"
          }
        },
        {
          "output_type": "display_data",
          "data": {
            "image/png": "[encoded data removed]",
            "text/plain": [
              "<Figure size 432x288 with 1 Axes>"
            ]
          },
          "metadata": {
            "tags": [],
            "needs_background": "light"
          }
        },
        {
          "output_type": "display_data",
          "data": {
            "image/png": "[encoded data removed]",
            "text/plain": [
              "<Figure size 432x288 with 1 Axes>"
            ]
          },
          "metadata": {
            "tags": [],
            "needs_background": "light"
          }
        }
      ]
    },
    {
      "cell_type": "code",
      "metadata": {
        "id": "0iub3jQoydDE",
        "colab_type": "code",
        "colab": {}
      },
      "source": [
        "total_predictions = torch.Tensor()\n",
        "imageNames = []\n",
        "\n",
        "with torch.no_grad():\n",
        "    for data in testloader:\n",
        "        images, labels, paths = data\n",
        "        images, labels = images.to(device), labels.to(device)\n",
        "        outputs = vgg16(images)\n",
        "\n",
        "        prediction = torch.sigmoid(outputs)\n",
        "        prediction_encoded = (prediction>0.5).float()\n",
        "        \n",
        "        total_predictions = torch.cat((total_predictions,prediction_encoded.cpu()))\n",
        "        imageNames.extend([os.path.basename(path) for path in paths])\n",
        "\n",
        "imageNames = np.array( imageNames ).reshape(len(imageNames),1)\n",
        "index = [0,2,1]\n",
        "arranged_predictions = total_predictions.numpy()[:,index]\n",
        "FinalCSVFile = np.concatenate([imageNames,arranged_predictions],axis=1) \n",
        "np.savetxt(\"MSDS19014_results_vgg_wfc.csv\", FinalCSVFile, delimiter=\",\", header='image,covid-19,pneumonia,normal', fmt='%s')"
      ],
      "execution_count": 0,
      "outputs": []
    },
    {
      "cell_type": "markdown",
      "metadata": {
        "id": "sobqQy_N8zQw",
        "colab_type": "text"
      },
      "source": [
        "RESNET"
      ]
    },
    {
      "cell_type": "code",
      "metadata": {
        "id": "IN0G7GxS8p19",
        "colab_type": "code",
        "colab": {}
      },
      "source": [
        "# Load the pretrained model from pytorch\n",
        "res18 = models.resnet18(pretrained=True)\n",
        "\n",
        "# Freeze training for all layers\n",
        "for param in res18.parameters():\n",
        "    param.require_grad = False\n",
        "\n",
        "res18.fc = nn.Sequential(nn.Linear(512, 1000),nn.ReLU(inplace=True),nn.Dropout(p=0.5, inplace=False),nn.Linear(1000, 3),nn.ReLU(inplace=True))\n",
        "\n",
        "criterion = nn.BCEWithLogitsLoss()\n",
        "optimizer = optim.SGD(res18.parameters(), lr=0.001, momentum=0.9)"
      ],
      "execution_count": 0,
      "outputs": []
    },
    {
      "cell_type": "code",
      "metadata": {
        "id": "oS9dUzJR8pdY",
        "colab_type": "code",
        "outputId": "6e4446f7-7871-49bd-ce66-36e49ea9d885",
        "colab": {
          "base_uri": "https://localhost:8080/",
          "height": 297
        }
      },
      "source": [
        "train_loss_arr_resnet = []\n",
        "train_acc_arr_resnet = []\n",
        "val_loss_arr_resnet = []\n",
        "val_acc_arr_resnet = []\n",
        "train_confusion_matrix_resnet=[]\n",
        "val_confusion_matrix_resnet=[]\n",
        "train_f1_resnet=[]\n",
        "val_f1_resnet=[]\n",
        "\n",
        "res18.to(device)\n",
        "best_accuracy_resnet=0\n",
        "\n",
        "for epoch in range(Epochs):\n",
        "    train_acc, train_loss, train_cf, t_f1 = train(res18, trainloader, criterion, optimizer, device, epoch,focalLoss=False)\n",
        "    val_acc, val_loss, val_cf, v_f1 = validationTraining(res18, valloader, criterion, device,focalLoss=False)\n",
        "\n",
        "    print(\"Epoch {:2d} \\t \\\n",
        "           Training Loss: {:.4f}\\t \\\n",
        "           Training Accuracy: {:.2f}\\t \\\n",
        "           Validation Loss: {:.4f}\\t \\\n",
        "           Validation Accuracy: {:.2f}\\t\".format(epoch,\n",
        "                                                train_loss, \n",
        "                                                train_acc, \n",
        "                                                val_loss, \n",
        "                                                val_acc))\n",
        "\n",
        "    train_loss_arr_resnet.append(train_loss)\n",
        "    train_acc_arr_resnet.append(train_acc)\n",
        "    val_loss_arr_resnet.append(val_loss)\n",
        "    val_acc_arr_resnet.append(val_acc)\n",
        "    train_confusion_matrix_resnet.append(train_cf)\n",
        "    val_confusion_matrix_resnet.append(val_cf)\n",
        "    train_f1_resnet.append(t_f1)\n",
        "    val_f1_resnet.append(v_f1)\n",
        "\n",
        "    if val_acc_arr_resnet[-1] > best_accuracy_resnet:\n",
        "      best_accuracy_resnet = val_acc_arr_resnet[-1]\n",
        "      torch.save(res18.state_dict(), './res18.pth')"
      ],
      "execution_count": 0,
      "outputs": [
        {
          "output_type": "stream",
          "text": [
            "Epoch  0 \t            Training Loss: 0.6640\t            Training Accuracy: 53.90\t            Validation Loss: 0.6258\t            Validation Accuracy: 63.53\t\n",
            "Epoch  1 \t            Training Loss: 0.6170\t            Training Accuracy: 63.18\t            Validation Loss: 0.6060\t            Validation Accuracy: 63.39\t\n",
            "Epoch  2 \t            Training Loss: 0.5956\t            Training Accuracy: 68.27\t            Validation Loss: 0.5743\t            Validation Accuracy: 73.49\t\n",
            "Epoch  3 \t            Training Loss: 0.5641\t            Training Accuracy: 75.22\t            Validation Loss: 0.5522\t            Validation Accuracy: 80.25\t\n",
            "Epoch  4 \t            Training Loss: 0.5475\t            Training Accuracy: 80.66\t            Validation Loss: 0.5443\t            Validation Accuracy: 83.46\t\n",
            "Epoch  5 \t            Training Loss: 0.5361\t            Training Accuracy: 84.02\t            Validation Loss: 0.5367\t            Validation Accuracy: 83.62\t\n",
            "Epoch  6 \t            Training Loss: 0.5288\t            Training Accuracy: 85.82\t            Validation Loss: 0.5341\t            Validation Accuracy: 85.25\t\n",
            "Epoch  7 \t            Training Loss: 0.5216\t            Training Accuracy: 86.90\t            Validation Loss: 0.5292\t            Validation Accuracy: 86.36\t\n",
            "Epoch  8 \t            Training Loss: 0.5175\t            Training Accuracy: 87.42\t            Validation Loss: 0.5280\t            Validation Accuracy: 85.35\t\n",
            "Epoch  9 \t            Training Loss: 0.5128\t            Training Accuracy: 88.80\t            Validation Loss: 0.5252\t            Validation Accuracy: 86.62\t\n",
            "Epoch 10 \t            Training Loss: 0.5095\t            Training Accuracy: 89.32\t            Validation Loss: 0.5244\t            Validation Accuracy: 87.86\t\n",
            "Epoch 11 \t            Training Loss: 0.5062\t            Training Accuracy: 89.66\t            Validation Loss: 0.5238\t            Validation Accuracy: 86.94\t\n",
            "Epoch 12 \t            Training Loss: 0.5007\t            Training Accuracy: 90.25\t            Validation Loss: 0.5246\t            Validation Accuracy: 86.97\t\n",
            "Epoch 13 \t            Training Loss: 0.4979\t            Training Accuracy: 90.48\t            Validation Loss: 0.5281\t            Validation Accuracy: 85.61\t\n",
            "Epoch 14 \t            Training Loss: 0.4932\t            Training Accuracy: 91.33\t            Validation Loss: 0.5276\t            Validation Accuracy: 86.31\t\n"
          ],
          "name": "stdout"
        }
      ]
    },
    {
      "cell_type": "code",
      "metadata": {
        "id": "fYItPU8a9Mcw",
        "colab_type": "code",
        "outputId": "55ba0866-12ba-4811-87da-e187a3aff365",
        "colab": {
          "base_uri": "https://localhost:8080/",
          "height": 1000
        }
      },
      "source": [
        "print('Training Confusion Matrix: \\n',train_confusion_matrix_resnet[-1])\n",
        "print('Validation Confusion Matrix: \\n',val_confusion_matrix_resnet[-1])\n",
        "print('Training F1 Score: \\n',train_f1_resnet[-1])\n",
        "print('Validation F1 Score: \\n',val_f1_resnet[-1])\n",
        "\n",
        "plot_curve(train_loss_arr_resnet,'Tarining: Error on each Epoch','Error')\n",
        "plot_curve(train_acc_arr_resnet,'Tarining: Accuracy on each Epoch','Accuracy')\n",
        "plot_curve(val_loss_arr_resnet,'Validation: Error on each Epoch','Error')\n",
        "plot_curve(val_acc_arr_resnet,'Validation: Accuracy on each Epoch','Accuracy')"
      ],
      "execution_count": 0,
      "outputs": [
        {
          "output_type": "stream",
          "text": [
            "Training Confusion Matrix: \n",
            " [[[6000    0]\n",
            "  [ 200    0]]\n",
            "\n",
            " [[1992  208]\n",
            "  [  28 3972]]\n",
            "\n",
            " [[3858  142]\n",
            "  [  82 2118]]]\n",
            "Validation Confusion Matrix: \n",
            " [[[600   0]\n",
            "  [ 28   0]]\n",
            "\n",
            " [[196  32]\n",
            "  [ 11 389]]\n",
            "\n",
            " [[366  34]\n",
            "  [ 18 210]]]\n",
            "Training F1 Score: \n",
            " 0.9334536411678929\n",
            "Validation F1 Score: \n",
            " 0.8870903887665603\n"
          ],
          "name": "stdout"
        },
        {
          "output_type": "display_data",
          "data": {
            "image/png": "[encoded data removed]",
            "text/plain": [
              "<Figure size 432x288 with 1 Axes>"
            ]
          },
          "metadata": {
            "tags": [],
            "needs_background": "light"
          }
        },
        {
          "output_type": "display_data",
          "data": {
            "image/png": "[encoded data removed]",
            "text/plain": [
              "<Figure size 432x288 with 1 Axes>"
            ]
          },
          "metadata": {
            "tags": [],
            "needs_background": "light"
          }
        },
        {
          "output_type": "display_data",
          "data": {
            "image/png": "[encoded data removed]",
            "text/plain": [
              "<Figure size 432x288 with 1 Axes>"
            ]
          },
          "metadata": {
            "tags": [],
            "needs_background": "light"
          }
        },
        {
          "output_type": "display_data",
          "data": {
            "image/png": "[encoded data removed]",
            "text/plain": [
              "<Figure size 432x288 with 1 Axes>"
            ]
          },
          "metadata": {
            "tags": [],
            "needs_background": "light"
          }
        }
      ]
    },
    {
      "cell_type": "code",
      "metadata": {
        "id": "e2cywDn69MSi",
        "colab_type": "code",
        "colab": {}
      },
      "source": [
        "total_predictions_resnet = torch.Tensor()\n",
        "imageNames_resnet = []\n",
        "\n",
        "with torch.no_grad():\n",
        "    for data in testloader:\n",
        "        images, labels, paths = data\n",
        "        images, labels = images.to(device), labels.to(device)\n",
        "        outputs = res18(images)\n",
        "\n",
        "        prediction = torch.sigmoid(outputs)\n",
        "        prediction_encoded = (prediction>0.5).float()\n",
        "        \n",
        "        total_predictions_resnet = torch.cat((total_predictions_resnet,prediction_encoded.cpu()))\n",
        "        imageNames_resnet.extend([os.path.basename(path) for path in paths])\n",
        "\n",
        "imageNames_resnet = np.array( imageNames_resnet ).reshape(len(imageNames_resnet),1)\n",
        "index = [0,2,1]\n",
        "arranged_predictions_resnet = total_predictions_resnet.numpy()[:,index]\n",
        "FinalCSVFile_resnet = np.concatenate([imageNames_resnet,arranged_predictions_resnet],axis=1) \n",
        "np.savetxt(\"MSDS19014_results_resnet_wfc.csv\", FinalCSVFile_resnet, delimiter=\",\", header='image,covid-19,pneumonia,normal', fmt='%s')"
      ],
      "execution_count": 0,
      "outputs": []
    },
    {
      "cell_type": "code",
      "metadata": {
        "id": "LK7Dw0ZYydAJ",
        "colab_type": "code",
        "colab": {}
      },
      "source": [
        ""
      ],
      "execution_count": 0,
      "outputs": []
    }
  ]
}